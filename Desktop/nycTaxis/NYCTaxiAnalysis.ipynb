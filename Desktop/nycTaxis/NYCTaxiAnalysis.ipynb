{
 "cells": [
  {
   "cell_type": "code",
   "execution_count": 1,
   "metadata": {
    "collapsed": true
   },
   "outputs": [],
   "source": [
    "'''\n",
    "Data mining project with Katie Wu and Franco Lombardi\n",
    "Oct 2017\n",
    "Analyzing 2015 SEP gree taxis in NYC\n",
    "'''\n",
    "\n",
    "import findspark\n",
    "findspark.init()\n",
    "import pyspark \n",
    "from pyspark import SparkContext"
   ]
  },
  {
   "cell_type": "code",
   "execution_count": 2,
   "metadata": {
    "collapsed": true
   },
   "outputs": [],
   "source": [
    "config = pyspark.SparkConf().set('spark.executor.memory', '512M').set('spark.cores.max', '4')\\\n",
    "            .set('spark.port.maxRetries','200') \n",
    "sc = pyspark.SparkContext(appName=\"Project 1\", master='spark://polyp1:7077',conf = config )"
   ]
  },
  {
   "cell_type": "code",
   "execution_count": 3,
   "metadata": {},
   "outputs": [
    {
     "name": "stdout",
     "output_type": "stream",
     "text": [
      "[u'VendorID,lpep_pickup_datetime,Lpep_dropoff_datetime,Store_and_fwd_flag,RateCodeID,Pickup_longitude,Pickup_latitude,Dropoff_longitude,Dropoff_latitude,Passenger_count,Trip_distance,Fare_amount,Extra,MTA_tax,Tip_amount,Tolls_amount,Ehail_fee,improvement_surcharge,Total_amount,Payment_type,Trip_type']\n"
     ]
    }
   ],
   "source": [
    "dataHeader = sc.textFile(\"/scratch/ISE495/2017_project_01/header.txt\")\n",
    "print dataHeader.collect()"
   ]
  },
  {
   "cell_type": "code",
   "execution_count": 4,
   "metadata": {
    "collapsed": true
   },
   "outputs": [],
   "source": [
    "\n",
    "data = sc.textFile(\"/scratch/ISE495/2017_project_01/green_tripdata_2015-09.csv\")\n",
    "#data = sc.textFile(\"/scratch/ISE495/2017_project_01/green_tripdata_2015-09_small.csv\")"
   ]
  },
  {
   "cell_type": "code",
   "execution_count": 5,
   "metadata": {},
   "outputs": [
    {
     "name": "stdout",
     "output_type": "stream",
     "text": [
      "The number of columns is 21 .\n",
      "The number of rows is 1494926 .\n"
     ]
    }
   ],
   "source": [
    "#TASK 1.1: How many columns and rows does the data file have?\n",
    "\n",
    "#Decided to find the number of columns by counting the number of header titles\n",
    "def headerSplit(e):\n",
    "    e = e.split(',')\n",
    "    return e\n",
    "dataHeader_RDD = dataHeader.map(headerSplit)\n",
    "header =  dataHeader_RDD.take(1)[0]\n",
    "print \"The number of columns is\", len(header),\".\"\n",
    "#To find the number of rows\n",
    "print \"The number of rows is\", data.count(), \".\""
   ]
  },
  {
   "cell_type": "code",
   "execution_count": 6,
   "metadata": {
    "scrolled": true
   },
   "outputs": [
    {
     "data": {
      "text/plain": [
       "<matplotlib.text.Text at 0x7f8d03c52410>"
      ]
     },
     "execution_count": 6,
     "metadata": {},
     "output_type": "execute_result"
    },
    {
     "data": {
      "image/png": "[encoded data removed]",
      "text/plain": [
       "<matplotlib.figure.Figure at 0x7f8d0410fb10>"
      ]
     },
     "metadata": {},
     "output_type": "display_data"
    }
   ],
   "source": [
    "#TASK 1.2: Plot histogram of trip distances\n",
    "def orgData(e):\n",
    "    e = e.split(',')\n",
    "    return e\n",
    "splitData = data.map(orgData)\n",
    "def tripDist(e):\n",
    "    return float(e[10])\n",
    "distances_RDD = splitData.map(tripDist).sortBy(lambda l: -l)\n",
    "distances = distances_RDD.take(data.count())\n",
    "import matplotlib.pyplot as plt\n",
    "import numpy as np\n",
    "%matplotlib inline\n",
    "x = distances\n",
    "plt.hist(x, bins = [x for x in range(25)], color = 'purple')\n",
    "plt.ylabel('Frequency')\n",
    "plt.xlabel('Distance of trip (in miles)')\n",
    "plt.title('Histogram of trip distances')\n",
    "#Ignored outliers (points with distances greater than 25)\n",
    "\n",
    "\n",
    "\n",
    "    "
   ]
  },
  {
   "cell_type": "code",
   "execution_count": 140,
   "metadata": {},
   "outputs": [
    {
     "name": "stdout",
     "output_type": "stream",
     "text": [
      "Hour: \tAverage Distance\n",
      "------------------------\n",
      "0:\t3.1152760654 miles\n",
      "1:\t3.01734718167 miles\n",
      "2:\t3.04617559957 miles\n",
      "3:\t3.21294532238 miles\n",
      "4:\t3.52655502573 miles\n",
      "5:\t4.1334742515 miles\n",
      "6:\t4.05514889487 miles\n",
      "7:\t3.28439444471 miles\n",
      "8:\t3.04844958874 miles\n",
      "9:\t2.99910522837 miles\n",
      "10:\t2.9444823206 miles\n",
      "11:\t2.9120154602 miles\n",
      "12:\t2.90306477831 miles\n",
      "13:\t2.87829444821 miles\n",
      "14:\t2.86430427217 miles\n",
      "15:\t2.85703999892 miles\n",
      "16:\t2.77985156082 miles\n",
      "17:\t2.6791138579 miles\n",
      "18:\t2.65322206797 miles\n",
      "19:\t2.71559688374 miles\n",
      "20:\t2.77705171559 miles\n",
      "21:\t2.99918861144 miles\n",
      "22:\t3.18539354229 miles\n",
      "23:\t3.19153794097 miles\n"
     ]
    },
    {
     "data": {
      "image/png": "[encoded data removed]",
      "text/plain": [
       "<matplotlib.figure.Figure at 0x7f14ebcf3b10>"
      ]
     },
     "metadata": {},
     "output_type": "display_data"
    }
   ],
   "source": [
    "#TASK 3: Report mean trip distance grouped by pick-up hour of day\n",
    "def pickupTime(e):\n",
    "    timeStamp = e[1].split(' ')\n",
    "    hour = timeStamp[1].split(':')[0]\n",
    "    return [int(hour),float(e[10])]\n",
    "\n",
    "pickupTimes = splitData.map(pickupTime)     \n",
    "\n",
    "distancesByHour = {}\n",
    "for i in range(24):\n",
    "    distancesByHour[i] = (pickupTimes.filter(lambda l: l[0] == i).map(lambda l: l[1]).sum())/pickupTimes.filter(lambda l: l[0] == i).count()\n",
    "\n",
    "print \"Hour: \" + '\\t' + \"Average Distance\"\n",
    "print '------------------------'\n",
    "for i in range(24):\n",
    "    print str(i) + \":\" + '\\t' + str(distancesByHour[i]) + \" miles\"\n",
    "\n",
    "hours = [x for x in range(24)]\n",
    "distByHour = [distancesByHour[i] for i in range(24)]\n",
    "\n",
    "plt.bar(hours, distByHour)\n",
    "\n",
    "axes = plt.gca()\n",
    "axes.set_ylim([2.0,4.2])\n",
    "plt.xticks(hours, hours)\n",
    "plt.ylabel('Distances (miles)')\n",
    "plt.xlabel('Hour (in 24 hour time)')\n",
    "plt.title('Average trip distance per hour')\n",
    " \n",
    "plt.show()"
   ]
  },
  {
   "cell_type": "code",
   "execution_count": 221,
   "metadata": {},
   "outputs": [
    {
     "name": "stdout",
     "output_type": "stream",
     "text": [
      "There are 31117.0 trips to the airport (Laguardia or JFK).\n",
      "The average fare to either Laguardia or JFK is: $ 29.55\n",
      "Another interesting fact (which makes sense given the airport dropoff) is that the average distance for these trips is 9.39709419288 miles.\n",
      "This is compared to the average distance for all trips of 2.96814085112 miles.\n",
      "91.66% of to the airport trips have 1  or 2 passengers\n",
      "The average tips for trips to the airport is 2.77664500907  more than non airport trips\n"
     ]
    }
   ],
   "source": [
    "#TASK 4: Provide a count of how many transactions terminate at one of the NYC area airports \n",
    "#Find the average fair, and any other interesting characteristics of these trips\n",
    "\n",
    "#Laguardia: 40.7769° N, 73.8740° (Acceptable range (based on Google Map): 40.769 - 40.78, 73.88 - 73.856)\n",
    "#JFK: 40.6413° N, 73.7781° W (Acceptable range (based on Google Map): 40.66 - 40.63, 73.82 - 73.75)\n",
    "\n",
    "def terminateAtAirport(e):\n",
    "    longitude = float(e[7])\n",
    "    lattitude = float(e[8])\n",
    "    if ((longitude <= -73.856 and longitude >= -73.88) and (lattitude >= 40.769 and lattitude <= 40.78)) or ((longitude <= -73.75 and longitude >= -73.82) and (lattitude >= 40.63 and lattitude <= 40.66)):\n",
    "        return True\n",
    "    else:\n",
    "        return False\n",
    "    \n",
    "airportTrips = splitData.filter(terminateAtAirport)\n",
    "\n",
    "def distanceTrip(e):\n",
    "    return float(e[10])\n",
    "\n",
    "totDistAir = airportTrips.map(distanceTrip).sum()\n",
    "totTripsAir = float(airportTrips.count())\n",
    "avDistAir = totDistAir/totTripsAir\n",
    "\n",
    "totDist = splitData.map(distanceTrip).sum()\n",
    "totTrips = float(splitData.count())\n",
    "avDist = totDist/totTrips\n",
    "\n",
    "def fare(e):\n",
    "    return float(e[11])\n",
    "\n",
    "totFare = airportTrips.map(fare).sum()\n",
    "avFare = totFare/totTripsAir\n",
    "\n",
    "print \"There are\", totTripsAir, \"trips to the airport (Laguardia or JFK).\"\n",
    "\n",
    "\n",
    "print \"The average fare to either Laguardia or JFK is: $\", \"%.2f\" % avFare\n",
    "\n",
    "print \"Another interesting fact (which makes sense given the airport dropoff) is that the average distance for these trips is\", avDistAir, \"miles.\"\n",
    "\n",
    "print \"This is compared to the average distance for all trips of\", avDist, \"miles.\"\n",
    "\n",
    "#about the number of passengers \n",
    "p1 = airportTrips.filter(lambda l: l[9] == '1' or l[9] == '2').count()\n",
    "oneP = float(p1)/float(totTripsAir)\n",
    "print '{0:.2%}'.format(oneP) + ' of to the airport trips have 1  or 2 passengers'\n",
    "\n",
    "#about tips \n",
    "def Tips(e): \n",
    "    return float(e[14])\n",
    "def addT(a, b): \n",
    "    return a + b\n",
    "def NoTerminateAtAirport(e):\n",
    "    longitude = float(e[7])\n",
    "    lattitude = float(e[8])\n",
    "    if ((longitude <= -73.856 and longitude >= -73.88) and (lattitude >= 40.769 and lattitude <= 40.78)) or ((longitude <= -73.75 and longitude >= -73.82) and (lattitude >= 40.63 and lattitude <= 40.66)):\n",
    "        return False\n",
    "    else:\n",
    "        return True\n",
    "nonAirport = splitData.filter(NoTerminateAtAirport)\n",
    "NontipT = nonAirport.map(Tips).reduce(addT)\n",
    "AirTipT = airportTrips.map(Tips).reduce(addT)\n",
    "avgNonATip = NontipT/(nonAirport.count())\n",
    "avgATip = AirTipT/totTripsAir\n",
    "Tipdifference = avgATip - avgNonATip\n",
    "print 'The average tips for trips to the airport is $', Tipdifference, ' more than non airport trips.'\n",
    "\n"
   ]
  },
  {
   "cell_type": "code",
   "execution_count": 223,
   "metadata": {},
   "outputs": [
    {
     "name": "stdout",
     "output_type": "stream",
     "text": [
      "There are 716 trips from the airport\n",
      "Only 2.25%  of the airport related trips are from the airport\n"
     ]
    }
   ],
   "source": [
    "def tripFromAirport(e): \n",
    "    longitude = float(e[5])\n",
    "    lattitude = float(e[6])\n",
    "    if ((-73.88 <= longitude <= -73.856) and (40.769 <= lattitude <= 40.78)) or \\\n",
    "    ((-73.82 <= longitude <= -73.75) and (40.63 <= lattitude <= 40.66)):\n",
    "        return [e[9], e[14], e[18], True, e[10]] #passengerCount, tip, totalPayment, airportTrip, distance \n",
    "    else: \n",
    "        return [e[9], e[14], e[18], False, e[10]]\n",
    "fromAirport = splitData.map(tripFromAirport).filter(lambda l: l[3] == True)\n",
    "print 'There are', fromAirport.count(), 'trips from the airport.'\n",
    "totalAir = fromAirport.count() + totTripsAir\n",
    "\n",
    "print 'Only', '{0:.2%}'.format(float(fromAirport.count())/totalAir), ' of the airport related trips are from the airport.'\n"
   ]
  },
  {
   "cell_type": "code",
   "execution_count": 147,
   "metadata": {
    "collapsed": true
   },
   "outputs": [],
   "source": [
    "#TASK 5: Do two clusterings on pick-up and drop-off locations respectively\n",
    "#Choose a proper number of clusters k and report the centroids. \n",
    "#Is there much difference between centroids for pick-up and drop-off? Note: do not set the maximal k too\n",
    "#large in your code. k from 2 to 10 ~ 20 should be enough to try.\n",
    "from pyspark.mllib.clustering import KMeans, KMeansModel\n",
    "from math import sqrt\n",
    "\n",
    "def pickupLoc(e):\n",
    "    return [float(e[5]), float(e[6])]\n",
    "\n",
    "pickups = splitData.map(pickupLoc).filter(lambda l: l[0] != 0 and l[1] != 0)\n",
    "\n",
    "ksPickup = [i for i in range(2,21)]\n",
    "erPickup = []\n",
    "for k in ksPickup:\n",
    "    clustersP = KMeans.train(pickups, k, maxIterations=10, initializationMode=\"random\")\n",
    "    def error(point):\n",
    "        center = clustersP.centers[clustersP.predict(point)]\n",
    "        return sqrt(sum([x**2 for x in (point - center)]))\n",
    "    WSSEEPickups = pickups.map(error).reduce(lambda x, y: x + y)\n",
    "    erPickup.append(WSSEEPickups)"
   ]
  },
  {
   "cell_type": "code",
   "execution_count": 148,
   "metadata": {},
   "outputs": [
    {
     "data": {
      "text/plain": [
       "[<matplotlib.lines.Line2D at 0x7f14f5178150>]"
      ]
     },
     "execution_count": 148,
     "metadata": {},
     "output_type": "execute_result"
    },
    {
     "data": {
      "image/png": "[encoded data removed]",
      "text/plain": [
       "<matplotlib.figure.Figure at 0x7f14e9150310>"
      ]
     },
     "metadata": {},
     "output_type": "display_data"
    }
   ],
   "source": [
    "plt.plot(ksPickup,erPickup,'rs-')"
   ]
  },
  {
   "cell_type": "code",
   "execution_count": 149,
   "metadata": {
    "collapsed": true
   },
   "outputs": [],
   "source": [
    "def dropoffLoc(e):\n",
    "    return [float(e[7]), float(e[8])]\n",
    "\n",
    "dropoffs = splitData.map(dropoffLoc).filter(lambda l: l[0] != 0 and l[1] != 0)\n",
    "\n",
    "ksDropoff = [i for i in range(2,21)]\n",
    "erDropoff = []\n",
    "for k in ksDropoff:\n",
    "    clustersD = KMeans.train(dropoffs, k, maxIterations=10, initializationMode=\"random\")\n",
    "    def error(point):\n",
    "        center = clustersD.centers[clustersD.predict(point)]\n",
    "        return sqrt(sum([x**2 for x in (point - center)]))\n",
    "    WSSEEDropoffs = dropoffs.map(error).reduce(lambda x, y: x + y)\n",
    "    erDropoff.append(WSSEEDropoffs)"
   ]
  },
  {
   "cell_type": "code",
   "execution_count": 150,
   "metadata": {},
   "outputs": [
    {
     "data": {
      "text/plain": [
       "[<matplotlib.lines.Line2D at 0x7f14f4f20410>]"
      ]
     },
     "execution_count": 150,
     "metadata": {},
     "output_type": "execute_result"
    },
    {
     "data": {
      "image/png": "[encoded data removed]",
      "text/plain": [
       "<matplotlib.figure.Figure at 0x7f14f5009390>"
      ]
     },
     "metadata": {},
     "output_type": "display_data"
    }
   ],
   "source": [
    "plt.plot(ksDropoff,erDropoff,'bs-')"
   ]
  },
  {
   "cell_type": "code",
   "execution_count": 151,
   "metadata": {},
   "outputs": [
    {
     "name": "stdout",
     "output_type": "stream",
     "text": [
      "Pickup clusters:\n",
      "[-73.99068025  40.67044739]\n",
      "[-73.95843153  40.60614414]\n",
      "[-73.94492346  40.67851288]\n",
      "[-73.92288186  40.76024145]\n",
      "[-73.93527636  40.83147644]\n",
      "[-73.83462791  40.72603715]\n",
      "[-73.88546884  40.74610696]\n",
      "[-73.98344347  40.69098125]\n",
      "[-73.94912012  40.80206022]\n",
      "[-73.88101856  40.85458562]\n",
      "[-73.9547345   40.71917719]\n",
      "Dropoff clusters:\n",
      "[-73.93894134  40.82143279]\n",
      "[-73.95347984  40.78659832]\n",
      "[-73.97318888  40.74436533]\n",
      "[-73.80586363  40.70105142]\n",
      "[-73.96805099  40.68362091]\n",
      "[-73.97411677  40.63112142]\n",
      "[-73.88523756  40.85646082]\n",
      "[-73.92858049  40.69203474]\n",
      "[-73.88629178  40.75250279]\n",
      "[-73.99870585  40.70181865]\n"
     ]
    }
   ],
   "source": [
    "#optimal k for pickup is 11\n",
    "#optimal k for dropoff is 10\n",
    "clustersPickup = KMeans.train(pickups, 11, maxIterations=10, initializationMode=\"random\")\n",
    "clustersDropoff = KMeans.train(dropoffs, 10, maxIterations=10, initializationMode=\"random\")\n",
    "print \"Pickup clusters:\"\n",
    "for i in clustersPickup.centers:\n",
    "    print i\n",
    "print \"Dropoff clusters:\"\n",
    "for i in clustersDropoff.centers:\n",
    "    print i"
   ]
  },
  {
   "cell_type": "code",
   "execution_count": 156,
   "metadata": {},
   "outputs": [
    {
     "name": "stdout",
     "output_type": "stream",
     "text": [
      "[-73.938941341736665, -73.953479838762021, -73.973188877178572, -73.805863625998256, -73.968050991592989, -73.974116774230552, -73.885237557681293, -73.928580488778792, -73.886291783266913, -73.998705853704195]\n"
     ]
    }
   ],
   "source": [
    "pickupLat = []\n",
    "pickupLong = []\n",
    "for i in clustersPickup.centers:\n",
    "    pickupLong.append(i[0])\n",
    "    pickupLat.append(i[1])\n",
    "\n",
    "dropoffLat = []\n",
    "dropoffLong = []\n",
    "for i in clustersDropoff.centers:\n",
    "    dropoffLong.append(i[0])\n",
    "    dropoffLat.append(i[1])"
   ]
  },
  {
   "cell_type": "code",
   "execution_count": 158,
   "metadata": {
    "collapsed": true
   },
   "outputs": [],
   "source": [
    "import gmplot\n",
    "\n",
    "gmap = gmplot.GoogleMapPlotter(37.428, -122.145, 16)\n",
    "\n",
    "gmap.scatter(pickupLat, pickupLong, '#3B0B39', size=1000, marker=False)\n",
    "gmap.scatter(dropoffLat, dropoffLong, '#FF69B4', size=1000, marker=False)\n",
    "\n",
    "\n",
    "gmap.draw(\"T5.html\")\n"
   ]
  },
  {
   "cell_type": "code",
   "execution_count": 159,
   "metadata": {
    "collapsed": true
   },
   "outputs": [],
   "source": [
    "#TASK 6: Cluster pick-up and drop-off locations. Choose a proper number of clusters k and report the centroids (you can use\n",
    "#google maps to show centroids). What is the percentage of trips for each cluster? What is percentage of trips where\n",
    "#pick-up and drop-off are in the same cluster? What have you learnt from this?\n",
    "def pickupDropoff(e):\n",
    "    return [float(e[5]), float(e[6])], [float(e[7]), float(e[8])]\n",
    "pdLocs = splitData.flatMap(pickupDropoff).filter(lambda l: l[0] != 0 and l[1] != 0)\n",
    "\n",
    "ksPD = [i for i in range(2,21)]\n",
    "erPD = []\n",
    "for k in ksPD:\n",
    "    clustersPD = KMeans.train(pdLocs, k, maxIterations=10, initializationMode=\"random\")\n",
    "    def error(point):\n",
    "        center = clustersPD.centers[clustersPD.predict(point)]\n",
    "        return sqrt(sum([x**2 for x in (point - center)]))\n",
    "    WSSEEPD = pdLocs.map(error).reduce(lambda x, y: x + y)\n",
    "    erPD.append(WSSEEPD)\n"
   ]
  },
  {
   "cell_type": "code",
   "execution_count": 160,
   "metadata": {},
   "outputs": [
    {
     "data": {
      "text/plain": [
       "[<matplotlib.lines.Line2D at 0x7f14f4e5e850>]"
      ]
     },
     "execution_count": 160,
     "metadata": {},
     "output_type": "execute_result"
    },
    {
     "data": {
      "image/png": "[encoded data removed]",
      "text/plain": [
       "<matplotlib.figure.Figure at 0x7f14f4f7be10>"
      ]
     },
     "metadata": {},
     "output_type": "display_data"
    }
   ],
   "source": [
    "plt.plot(ksPD, erPD, 'gs-')"
   ]
  },
  {
   "cell_type": "code",
   "execution_count": 161,
   "metadata": {
    "scrolled": true
   },
   "outputs": [
    {
     "name": "stdout",
     "output_type": "stream",
     "text": [
      "PD cluster centers:\n",
      "[-73.98207193  40.68866279]\n",
      "[-73.98988616  40.74320229]\n",
      "[-73.93119682  40.83430488]\n",
      "[-73.95430344  40.72131899]\n",
      "[-73.95593963  40.62564175]\n",
      "[-73.99882396  40.66366949]\n",
      "[-73.94939344  40.80603446]\n",
      "[-73.94659484  40.77487911]\n",
      "[-73.89196639  40.75172466]\n",
      "[-73.9367916   40.68311219]\n",
      "[-73.82285148  40.71682073]\n",
      "[-73.87728671  40.85647303]\n"
     ]
    }
   ],
   "source": [
    "#optimal k for pickup/dropoff is 12\n",
    "clustersPD = KMeans.train(pdLocs, 12, maxIterations=10, initializationMode=\"random\")\n",
    "print \"PD cluster centers:\"\n",
    "for i in clustersPD.centers:\n",
    "    print i"
   ]
  },
  {
   "cell_type": "code",
   "execution_count": 162,
   "metadata": {},
   "outputs": [
    {
     "name": "stdout",
     "output_type": "stream",
     "text": [
      "[40.688662785655652, 40.743202285836958, 40.83430487580619, 40.721318987424134, 40.625641745305479, 40.663669487251916, 40.806034458596983, 40.774879110208431, 40.75172466046071, 40.683112190008423, 40.716820728496202, 40.856473027639325]\n",
      "[-73.982071930754984, -73.989886155953158, -73.931196820069204, -73.95430343516513, -73.955939630390176, -73.99882395568595, -73.949393444960606, -73.946594841709071, -73.891966391708166, -73.936791595926891, -73.822851484463428, -73.8772867063647]\n"
     ]
    }
   ],
   "source": [
    "pdLat = []\n",
    "pdLong = []\n",
    "for i in clustersPD.centers:\n",
    "    pdLong.append(i[0])\n",
    "    pdLat.append(i[1])"
   ]
  },
  {
   "cell_type": "code",
   "execution_count": 163,
   "metadata": {
    "collapsed": true
   },
   "outputs": [],
   "source": [
    "import gmplot\n",
    "\n",
    "gmap = gmplot.GoogleMapPlotter(37.428, -122.145, 16)\n",
    "\n",
    "gmap.scatter(pdLat, pdLong, '#3B0B39', size=1000, marker=False)\n",
    "\n",
    "gmap.draw(\"T6.html\")\n"
   ]
  },
  {
   "cell_type": "code",
   "execution_count": 164,
   "metadata": {},
   "outputs": [
    {
     "name": "stdout",
     "output_type": "stream",
     "text": [
      "[ 390445.  147226.  227992.  286397.   60742.   91742.  509142.  268696.\n",
      "  455252.  248205.  200080.   99860.       0.       0.       0.       0.]\n"
     ]
    }
   ],
   "source": [
    "def predicted(e):\n",
    "    return clustersPD.predict(e)\n",
    "\n",
    "predictedClusters = pdLocs.map(predicted)\n",
    "clust = np.zeros(12)\n",
    "\n",
    "for i in range(12):\n",
    "    clust[i] = predictedClusters.filter(lambda l: l == i).count()\n",
    "print clust\n",
    "\n",
    "# 390445.  147226.  227992.  286397.   60742.   91742.  509142.  268696.\n",
    "#  455252.  248205.  200080.   99860."
   ]
  },
  {
   "cell_type": "code",
   "execution_count": 170,
   "metadata": {},
   "outputs": [
    {
     "name": "stdout",
     "output_type": "stream",
     "text": [
      "Percent of trips without valid lattitude and longitude: -99.7275450424\n",
      "Then of those with valid lattitude and longitude, we found the percentages per cluster below:\n",
      "Cluster Number\tCluster Percentage\n",
      "0\t13.0768218277 %\n",
      "1\t4.93090747842 %\n",
      "2\t7.63593018773 %\n",
      "3\t9.5920361152 %\n",
      "4\t2.03437695824 %\n",
      "5\t3.0726319664 %\n",
      "6\t17.0522332698 %\n",
      "7\t8.99919250554 %\n",
      "8\t15.2473441604 %\n",
      "9\t8.31290594515 %\n",
      "10\t6.70109877523 %\n",
      "11\t3.34452081015 %\n"
     ]
    }
   ],
   "source": [
    "numPredicted = float(predictedClusters.count())\n",
    "numTotal = float(data.count())\n",
    "percentNoCluster = ((numTotal - numPredicted) / numTotal) * 100.0\n",
    "percentPerCluster = np.zeros(12)\n",
    "for i in range(12):\n",
    "    percentPerCluster[i] = (float(clust[i])/numPredicted) * 100.0\n",
    "\n",
    "print \"Percent of trips without valid lattitude and longitude:\", percentNoCluster\n",
    "print \"Then of those with valid lattitude and longitude, we found the percentages per cluster below:\"\n",
    "print \"Cluster Number\" + \"\\t\" + \"Cluster Percentage\"    \n",
    "\n",
    "for i in range(12):\n",
    "    print str(i) + \"\\t\" + str(percentPerCluster[i])+ \" %\""
   ]
  },
  {
   "cell_type": "code",
   "execution_count": 180,
   "metadata": {},
   "outputs": [
    {
     "name": "stdout",
     "output_type": "stream",
     "text": [
      "The percentage of trips where pick-up and drop-off are in the same cluster is:  24.8808099997 %.\n"
     ]
    }
   ],
   "source": [
    "#considering only the trips with valid lat and long\n",
    "#What is percentage of trips where pick-up and drop-off are in the same cluster?\n",
    "def pickUpAndDropOff(e):\n",
    "    return [[float(e[5]),float(e[6])],[float(e[7]),float(e[8])]]\n",
    "def predictBoth(e):\n",
    "    if clustersPD.predict(e[0]) == clustersPD.predict(e[1]):\n",
    "        return True\n",
    "    else:\n",
    "        return False\n",
    "\n",
    "predictsSame = splitData.map(pickUpAndDropOff).filter(predictBoth).count()\n",
    "\n",
    "percentSame = (float(predictsSame)/numPredicted) * 100.0\n",
    "\n",
    "print \"The percentage of trips where pick-up and drop-off are in the same cluster is: \", percentSame, \"%.\""
   ]
  },
  {
   "cell_type": "code",
   "execution_count": 181,
   "metadata": {
    "collapsed": true
   },
   "outputs": [],
   "source": [
    "#TASK 7: Association Rules\n",
    "def where2where(e):\n",
    "    pickup = ''\n",
    "    dropoff = ''\n",
    "    pLong = float(e[5])\n",
    "    pLat = float(e[6])\n",
    "    dLong = float(e[7])\n",
    "    dLat = float(e[8])\n",
    "    boundaryPickup = (1.323942 * pLong) + 138.669195\n",
    "    if pLat > boundaryPickup:\n",
    "        pickup = 'NJ'\n",
    "    else:\n",
    "        pickup = 'NY'\n",
    "    boundaryDropoff = (1.323942 * dLong) + 138.669195\n",
    "    if dLat > boundaryDropoff:\n",
    "        dropoff = 'NJ'\n",
    "    else:\n",
    "        dropoff = 'NY'\n",
    "    return [pickup+\"-\"+dropoff, e]\n",
    "\n",
    "groupedPDData = splitData.map(where2where)\n",
    "\n",
    "NYNYtraffic = groupedPDData.filter(lambda l: l[0] == 'NY-NY')\n",
    "NJNJtraffic = groupedPDData.filter(lambda l: l[0] == 'NJ-NJ')\n",
    "NYNJtraffic = groupedPDData.filter(lambda l: l[0] == 'NY-NJ')\n",
    "NJNYtraffic = groupedPDData.filter(lambda l: l[0] == 'NJ-NY')\n",
    "\n",
    "    "
   ]
  },
  {
   "cell_type": "code",
   "execution_count": 198,
   "metadata": {},
   "outputs": [
    {
     "name": "stderr",
     "output_type": "stream",
     "text": [
      "/usr/lib/python2.7/dist-packages/matplotlib/legend.py:611: UserWarning: Legend does not support 1480.0 instances.\n",
      "A proxy artist may be used instead.\n",
      "See: http://matplotlib.org/users/legend_guide.html#using-proxy-artist\n",
      "  \"#using-proxy-artist\".format(orig_handle))\n"
     ]
    },
    {
     "data": {
      "image/png": "[encoded data removed]",
      "text/plain": [
       "<matplotlib.figure.Figure at 0x7f14e91fb510>"
      ]
     },
     "metadata": {},
     "output_type": "display_data"
    }
   ],
   "source": [
    "NYNY = np.zeros(24)\n",
    "NJNJ = np.zeros(24)\n",
    "NYNJ = np.zeros(24)\n",
    "NJNY = np.zeros(24)\n",
    "\n",
    "\n",
    "for i in range(24):\n",
    "    NYNY[i] = NYNYtraffic.filter(lambda l: int(l[1][1].split(' ')[1].split(':')[0]) == i).count()\n",
    "    NJNJ[i] = NJNJtraffic.filter(lambda l: int(l[1][1].split(' ')[1].split(':')[0]) == i).count()\n",
    "    NYNJ[i] = NYNJtraffic.filter(lambda l: int(l[1][1].split(' ')[1].split(':')[0]) == i).count()\n",
    "    NJNY[i] = NJNYtraffic.filter(lambda l: int(l[1][1].split(' ')[1].split(':')[0]) == i).count()\n",
    "\n"
   ]
  },
  {
   "cell_type": "code",
   "execution_count": 213,
   "metadata": {},
   "outputs": [
    {
     "data": {
      "image/png": "[encoded data removed]",
      "text/plain": [
       "<matplotlib.figure.Figure at 0x7f14d7f13910>"
      ]
     },
     "metadata": {},
     "output_type": "display_data"
    }
   ],
   "source": [
    "N = 24\n",
    "ind = np.arange(24)  # the x locations for the groups\n",
    "width = 0.20      # the width of the bars\n",
    "fig, ax = plt.subplots()\n",
    "fig = plt.gcf()\n",
    "fig.set_size_inches(18.5, 10.5)\n",
    "NYNYnum = ax.bar(ind, NYNY, width, color='g', label = 'NY-NY')\n",
    "NJNJnum = ax.bar(ind + width, NJNJ, width, color='y', label = 'NJ-NJ')\n",
    "NYNJnum = ax.bar(ind + (2*width), NYNJ, width, color = 'b', label = 'NY-NJ')\n",
    "NJNYnum = ax.bar(ind + (3*width), NJNY, width, color = 'r', label = 'NJ-NY')\n",
    "# add some text for labels, title and axes ticks\n",
    "ax.set_ylabel('Number of trips')\n",
    "ax.set_xlabel('Hours')\n",
    "ax.set_title('Number of trips to/from boroughs per hour')\n",
    "ax.set_xticks(ind + width / 2)\n",
    "ax.set_xticklabels(('0', '1', '2', '3', '4', '5', '6', '7', '8', '9', '10', '11', '12', '13', '14', '15', '16', '17', '18', '19', '20', '21', '22', '23'))\n",
    "plt.legend()\n",
    "plt.show()"
   ]
  },
  {
   "cell_type": "code",
   "execution_count": 214,
   "metadata": {},
   "outputs": [
    {
     "name": "stdout",
     "output_type": "stream",
     "text": [
      "[('NY-NJ', 21.943149052806884), ('NY-NY', 11.467664249618013), ('NJ-NJ', 10.56642849509051), ('NJ-NY', 25.013366008671532)]\n",
      "Average Fare from NY-NJ is $ 21.9431490528\n",
      "Percent of Fares made from NY-NJ is 16.8641755708 %\n",
      "Average Fare from NY-NY is $ 11.4676642496\n",
      "Percent of Fares made from NY-NY is 52.8735700207 %\n",
      "Average Fare from NJ-NJ is $ 10.5664284951\n",
      "Percent of Fares made from NJ-NJ is 25.3088450631 %\n",
      "Average Fare from NJ-NY is $ 25.0133660087\n",
      "Percent of Fares made from NJ-NY is 4.95340934542 %\n"
     ]
    }
   ],
   "source": [
    "#FRANCO:\n",
    "def groupByState(e):\n",
    "    key = e[0]\n",
    "    value = [float(e[1][11]),1]\n",
    "    return key, value\n",
    "    \n",
    "#identify which state they come and go to \n",
    "FareData = groupedPDData.map(groupByState)\n",
    "\n",
    "#print groupByState(where2where(orgData(test)))\n",
    "types = ['NY-NY', \"NJ-NJ\", \"NY-NJ\" , \"NJ-NY\"]\n",
    "\n",
    "FareData = FareData.reduceByKey(lambda x, y: [x[0]+y[0], x[1]+y[1]])\n",
    "\n",
    "def compAvg(e):\n",
    "    key = e[0]\n",
    "    value = e[1][0]/e[1][1]\n",
    "    return key, value\n",
    "\n",
    "FareAvg = FareData.map(compAvg)\n",
    "\n",
    "def mapSum(e):\n",
    "    return e[1][0]\n",
    "FareSum = FareData.map(mapSum)\n",
    "FareSum = FareSum.reduce(lambda x,y: x+y)\n",
    "\n",
    "def FarePerc(e):\n",
    "    key = e[0]\n",
    "    value = 100*(e[1][0]/FareSum)\n",
    "    return key, value\n",
    "\n",
    "FarePercents = FareData.map(FarePerc)\n",
    "\n",
    "FAvg = FareAvg.collect()\n",
    "FPerc = FarePercents.collect()\n",
    "for i in range(4):\n",
    "    print \"Average Fare from\", FAvg[i][0], \"is $\", FAvg[i][1]\n",
    "    print \"Percent of Fares made from\", FPerc[i][0], \"is\", FPerc[i][1], \"%\""
   ]
  },
  {
   "cell_type": "code",
   "execution_count": 224,
   "metadata": {},
   "outputs": [
    {
     "name": "stdout",
     "output_type": "stream",
     "text": [
      "['NY-NY', [u'2', u'2015-09-01 00:02:34', u'2015-09-01 00:02:38', u'N', u'5', u'-73.979484558105469', u'40.684955596923828', u'-73.97943115234375', u'40.685020446777344', u'1', u'.00', u'7.8', u'0', u'0', u'1.95', u'0', u'', u'0', u'9.75', u'1', u'2']]\n",
      "[True, True, True, True, True, True, True, True, True, True]\n",
      "864553 395604.0\n",
      "54.24%of the trips in NYC are going downtown\n"
     ]
    }
   ],
   "source": [
    "# in NYC -> NYC, uptown <-> downtown\n",
    "def uptown (e):\n",
    "    if e[1][8] > e[1][6]:\n",
    "        return True\n",
    "    else:\n",
    "        return False \n",
    "\n",
    "    \n",
    "goingUp = NYNYtraffic.map(uptown).filter(lambda l: l == True)\n",
    "goingDown = NYNYtraffic.map(uptown).filter(lambda l: l == False)\n",
    "\n",
    "NYNYCount = NYNYtraffic.count()\n",
    "goingUpCount = float(goingUp.count())\n",
    "dtPercent = 1-(goingUpCount/NYNYCount)\n",
    "\n",
    "\n",
    "print '{0:.2%}'.format(dtPercent)+ 'of the trips in NYC are going downtown'\n",
    "\n"
   ]
  },
  {
   "cell_type": "code",
   "execution_count": 225,
   "metadata": {},
   "outputs": [
    {
     "name": "stdout",
     "output_type": "stream",
     "text": [
      "17.23%of the total trips are from NJ communters\n"
     ]
    }
   ],
   "source": [
    "# in NJ -> NYC, morning commute? \n",
    "# take NJ -> NYC RDD\n",
    "#print NJNYtraffic.first()\n",
    "#print NJNYtraffic.first()[1][1].split(' ')[1].split(':')[2]\n",
    "def ptime (e): \n",
    "    time = e[1][1].split(' ')\n",
    "    hour = time[1].split(':')[0]\n",
    "    return [int(hour)]\n",
    "#print NJNYtraffic.map(time).take(100)\n",
    "NJmorning_commute = NJNYtraffic.map(ptime).filter(lambda l: 6 <= l[0] <=9)\n",
    "NJevening_commute = NYNJtraffic.map(ptime).filter(lambda l: 16 <= l[0] <= 19)\n",
    "NJCommuteCount = NJmorning_commute.count() + NJevening_commute.count()\n",
    "NJNYCCount = float(NJNYtraffic.count() + NYNJtraffic.count())\n",
    "print '{0:.2%}'.format(NJCommuteCount/NJNYCCount)+ ' of the total trips are from NJ communters'\n",
    "#print NJCommuteCount, NJNYCCount\n"
   ]
  },
  {
   "cell_type": "code",
   "execution_count": 228,
   "metadata": {},
   "outputs": [
    {
     "name": "stdout",
     "output_type": "stream",
     "text": [
      "35.02% of the trips are during rush hours\n"
     ]
    }
   ],
   "source": [
    "# rush hour traffic \n",
    "rushHour = splitData.map(pickupTime).filter(lambda l: 7 <= l[0] <= 9 or 16 <= l[0] <= 19)\n",
    "totalT = float(splitData.count())\n",
    "print '{0:.2%}'.format(rushHour.count()/totalT)+ ' of the trips are during rush hours'\n",
    "\n",
    "\n"
   ]
  },
  {
   "cell_type": "code",
   "execution_count": 229,
   "metadata": {},
   "outputs": [
    {
     "name": "stdout",
     "output_type": "stream",
     "text": [
      "[u'VendorID', u'lpep_pickup_datetime', u'Lpep_dropoff_datetime', u'Store_and_fwd_flag', u'RateCodeID', u'Pickup_longitude', u'Pickup_latitude', u'Dropoff_longitude', u'Dropoff_latitude', u'Passenger_count', u'Trip_distance', u'Fare_amount', u'Extra', u'MTA_tax', u'Tip_amount', u'Tolls_amount', u'Ehail_fee', u'improvement_surcharge', u'Total_amount', u'Payment_type', u'Trip_type']\n"
     ]
    }
   ],
   "source": [
    "print header"
   ]
  },
  {
   "cell_type": "code",
   "execution_count": 22,
   "metadata": {},
   "outputs": [
    {
     "name": "stdout",
     "output_type": "stream",
     "text": [
      "[[u'2', u'2015-09-01 00:02:34', u'2015-09-01 00:02:38', u'N', u'5', u'-73.979484558105469', u'40.684955596923828', u'-73.97943115234375', u'40.685020446777344', u'1', u'.00', u'7.8', u'0', u'0', u'1.95', u'0', u'', u'0', u'9.75', u'1', u'2']]\n"
     ]
    }
   ],
   "source": [
    "print splitData.take(1)\n",
    "\n",
    "def getDay(e):\n",
    "    dateTime = e[1]\n",
    "    date = dateTime.split(' ')[0]\n",
    "    day = int(date.split('-')[2])\n",
    "    return day\n",
    "\n",
    "days = splitData.map(getDay)\n",
    "tripsPerDay = np.zeros(30)\n",
    "for i in range(1,31):\n",
    "    tripsPerDay[i-1] = days.filter(lambda l: l==i).count()\n"
   ]
  },
  {
   "cell_type": "code",
   "execution_count": 38,
   "metadata": {},
   "outputs": [
    {
     "data": {
      "text/plain": [
       "<matplotlib.text.Text at 0x7f21de4ad8d0>"
      ]
     },
     "execution_count": 38,
     "metadata": {},
     "output_type": "execute_result"
    },
    {
     "data": {
      "image/png": "[encoded data removed]",
      "text/plain": [
       "<matplotlib.figure.Figure at 0x7f21de6a8390>"
      ]
     },
     "metadata": {},
     "output_type": "display_data"
    }
   ],
   "source": [
    "daysOfTheMonth = [x for x in range(1,31)]\n",
    "plt.plot(daysOfTheMonth,tripsPerDay,'ys-')\n",
    "plt.title(\"Number of Trips Per Day in September 2015\")"
   ]
  },
  {
   "cell_type": "code",
   "execution_count": 35,
   "metadata": {
    "collapsed": true
   },
   "outputs": [],
   "source": [
    "def getHour(e):\n",
    "    dateTime = e[1].split(' ')\n",
    "    date = dateTime[0]\n",
    "    day = int(date.split('-')[2])\n",
    "    time = dateTime[1]\n",
    "    hour = int(time.split(':')[0])\n",
    "    return [day, hour]\n",
    "\n",
    "weekends = splitData.map(getHour).filter(lambda l: l[0]==5 or l[0]==12 or l[0]==19 or l[0]==26)\n",
    "weekendHours = np.zeros(24)\n",
    "for i in range(24):\n",
    "    weekendHours[i] = weekends.filter(lambda l: l[1] == i).count()"
   ]
  },
  {
   "cell_type": "code",
   "execution_count": 39,
   "metadata": {},
   "outputs": [
    {
     "data": {
      "text/plain": [
       "<matplotlib.text.Text at 0x7f21de3fde10>"
      ]
     },
     "execution_count": 39,
     "metadata": {},
     "output_type": "execute_result"
    },
    {
     "data": {
      "image/png": "[encoded data removed]",
      "text/plain": [
       "<matplotlib.figure.Figure at 0x7f21de42e6d0>"
      ]
     },
     "metadata": {},
     "output_type": "display_data"
    }
   ],
   "source": [
    "hoursOnTheWeekend = [x for x in range(24)]\n",
    "plt.plot(hoursOnTheWeekend, weekendHours, 'bs-')\n",
    "plt.title(\"Number of trips per hour on September 2015 weekends\")"
   ]
  },
  {
   "cell_type": "code",
   "execution_count": 41,
   "metadata": {
    "collapsed": true
   },
   "outputs": [],
   "source": [
    "nonWeekends = splitData.map(getHour).filter(lambda l: l[0]!=5 and l[0]!=12 and l[0]!=19 and l[0]!=26)\n",
    "nonWeekendHours = np.zeros(24)\n",
    "for i in range(24):\n",
    "    nonWeekendHours[i] = nonWeekends.filter(lambda l: l[1] == i).count()"
   ]
  },
  {
   "cell_type": "code",
   "execution_count": 42,
   "metadata": {},
   "outputs": [
    {
     "data": {
      "text/plain": [
       "<matplotlib.text.Text at 0x7f21de364790>"
      ]
     },
     "execution_count": 42,
     "metadata": {},
     "output_type": "execute_result"
    },
    {
     "data": {
      "image/png": "[encoded data removed]",
      "text/plain": [
       "<matplotlib.figure.Figure at 0x7f21de407e10>"
      ]
     },
     "metadata": {},
     "output_type": "display_data"
    }
   ],
   "source": [
    "hoursDuringWeek = [x for x in range(24)]\n",
    "plt.plot(hoursDuringWeek, nonWeekendHours, 'rs-')\n",
    "plt.title(\"Number of trips per hour on September 2015 weekdays\")"
   ]
  },
  {
   "cell_type": "code",
   "execution_count": 54,
   "metadata": {},
   "outputs": [
    {
     "name": "stdout",
     "output_type": "stream",
     "text": [
      "Most Profitable Days  \n",
      "19 \t1059257.56\n",
      "12 \t1015901.0\n",
      "26 \t994744.26\n",
      "18 \t885568.390001\n",
      "5 \t882249.42\n",
      "11 \t881832.760001\n",
      "20 \t879678.740001\n",
      "13 \t838903.9\n",
      "27 \t837646.7\n",
      "4 \t825679.73\n"
     ]
    }
   ],
   "source": [
    "def amountPaid(e):\n",
    "    dateTime = e[1].split(' ')\n",
    "    date = dateTime[0]\n",
    "    day = int(date.split('-')[2])\n",
    "    amountPaid = float(e[18])\n",
    "    return [day, amountPaid]\n",
    "\n",
    "paymentByDay = splitData.map(amountPaid)\n",
    "\n",
    "def add(a,b):\n",
    "    return a+b\n",
    "\n",
    "paymentByDayReduced = paymentByDay.reduceByKey(add)\n",
    "\n",
    "paymentDaySorted = paymentByDayReduced.sortBy(lambda l: -l[1])\n",
    "print \"Most Profitable Days\",\n",
    "print ' '\n",
    "for (a,b) in paymentDaySorted.take(10):\n",
    "    print a,\"\\t\",b"
   ]
  },
  {
   "cell_type": "code",
   "execution_count": 63,
   "metadata": {
    "scrolled": true
   },
   "outputs": [
    {
     "data": {
      "text/plain": [
       "<matplotlib.text.Text at 0x7f21de0db750>"
      ]
     },
     "execution_count": 63,
     "metadata": {},
     "output_type": "execute_result"
    },
    {
     "data": {
      "image/png": "[encoded data removed]",
      "text/plain": [
       "<matplotlib.figure.Figure at 0x7f21de5d5a90>"
      ]
     },
     "metadata": {},
     "output_type": "display_data"
    }
   ],
   "source": [
    "orderedPaymentDays = paymentByDayReduced.sortBy(lambda l: l[0])\n",
    "paymentsbyDay = orderedPaymentDays.map(lambda l: l[1]).collect()\n",
    "plt.plot(daysOfTheMonth,paymentsbyDay, 'rs-')\n",
    "plt.title(\"Profit per day in September 2015\")"
   ]
  },
  {
   "cell_type": "code",
   "execution_count": 8,
   "metadata": {},
   "outputs": [
    {
     "name": "stdout",
     "output_type": "stream",
     "text": [
      "Pickup clusters hour 0:\n",
      "[-73.83747732  40.72925045]\n",
      "[-73.9508131   40.71495446]\n",
      "[-73.9045547   40.75420007]\n",
      "[-73.97394395  40.67716216]\n",
      "[-73.93762444  40.81696661]\n",
      " \n",
      "Pickup clusters hour 1:\n",
      "[-73.98076344  40.67767025]\n",
      "[-73.93722211  40.68516933]\n",
      "[-73.875533    40.74424627]\n",
      "[-73.93661353  40.81780463]\n",
      "[-73.95191477  40.72334083]\n",
      " \n",
      "Pickup clusters hour 2:\n",
      "[-73.93105997  40.8045697 ]\n",
      "[-73.9318844   40.69162678]\n",
      "[-73.97504497  40.6751784 ]\n",
      "[-73.95361245  40.72126902]\n",
      "[-73.87098524  40.74161089]\n",
      " \n",
      "Pickup clusters hour 3:\n",
      "[-73.93016361  40.69319945]\n",
      "[-73.95569807  40.71911175]\n",
      "[-73.88616134  40.74827046]\n",
      "[-73.93508242  40.82151405]\n",
      "[-73.97363568  40.67439076]\n",
      " \n",
      "Pickup clusters hour 4:\n",
      "[-73.89587851  40.75190846]\n",
      "[-73.93290918  40.82345043]\n",
      "[-73.96580121  40.67471218]\n",
      "[-73.83076122  40.72283435]\n",
      "[-73.95073317  40.71613625]\n",
      " \n",
      "Pickup clusters hour 5:\n",
      "[-73.90805217  40.84957197]\n",
      "[-73.94556382  40.80854273]\n",
      "[-73.86700587  40.73930122]\n",
      "[-73.92056021  40.75720567]\n",
      "[-73.95794167  40.69651579]\n",
      " \n",
      "Pickup clusters hour 6:\n",
      "[-73.85881408  40.73594675]\n",
      "[-73.94554094  40.80855704]\n",
      "[-73.90336913  40.84856699]\n",
      "[-73.96450392  40.68663635]\n",
      "[-73.92698961  40.75334547]\n",
      " \n",
      "Pickup clusters hour 7:\n",
      "[-73.94316006  40.80024664]\n",
      "[-73.8680849   40.73887317]\n",
      "[-73.97661537  40.69772722]\n",
      "[-73.90690247  40.84699071]\n",
      "[-73.94747763  40.66537211]\n",
      " \n",
      "Pickup clusters hour 8:\n",
      "[-73.8401458   40.72650889]\n",
      "[-73.94680824  40.80792419]\n",
      "[-73.90070159  40.85080898]\n",
      "[-73.97234395  40.68307411]\n",
      "[-73.91757885  40.75268511]\n",
      " \n",
      "Pickup clusters hour 9:\n",
      "[-73.9719291   40.68818295]\n",
      "[-73.87931975  40.85322126]\n",
      "[-73.93773682  40.83045347]\n",
      "[-73.94413376  40.79061001]\n",
      "[-73.86823034  40.7381121 ]\n",
      " \n",
      "Pickup clusters hour 10:\n",
      "[-73.97292642  40.68512997]\n",
      "[-73.91855277  40.75313481]\n",
      "[-73.94774302  40.80589063]\n",
      "[-73.84399614  40.72888592]\n",
      "[-73.90773934  40.84844661]\n",
      " \n",
      "Pickup clusters hour 11:\n",
      "[-73.97234872  40.68507215]\n",
      "[-73.91732994  40.75353776]\n",
      "[-73.94705989  40.80753355]\n",
      "[-73.90049763  40.85099934]\n",
      "[-73.84519761  40.7286401 ]\n",
      " \n",
      "Pickup clusters hour 12:\n",
      "[-73.85167349  40.73308548]\n",
      "[-73.98646457  40.68448456]\n",
      "[-73.91975863  40.75502673]\n",
      "[-73.93968918  40.81460991]\n",
      "[-73.95085347  40.68809057]\n",
      " \n",
      "Pickup clusters hour 13:\n",
      "[-73.92207073  40.75349829]\n",
      "[-73.85471028  40.73455652]\n",
      "[-73.93924277  40.8149067 ]\n",
      "[-73.97905242  40.691287  ]\n",
      "[-73.94507846  40.66180293]\n",
      " \n",
      "Pickup clusters hour 14:\n",
      "[-73.92699571  40.76036225]\n",
      "[-73.94602231  40.81065611]\n",
      "[-73.88794533  40.85348478]\n",
      "[-73.97138611  40.6854639 ]\n",
      "[-73.85984773  40.73473907]\n",
      " \n",
      "Pickup clusters hour 15:\n",
      "[-73.97782891  40.69539084]\n",
      "[-73.8463751   40.73146827]\n",
      "[-73.93931278  40.81466418]\n",
      "[-73.9132165   40.75429563]\n",
      "[-73.95596979  40.66238734]\n",
      " \n",
      "Pickup clusters hour 16:\n",
      "[-73.94908974  40.70788957]\n",
      "[-73.9088601   40.75520926]\n",
      "[-73.93967152  40.81393199]\n",
      "[-73.84650234  40.73048441]\n",
      "[-73.98087504  40.67969084]\n",
      " \n",
      "Pickup clusters hour 17:\n",
      "[-73.85805385  40.73580944]\n",
      "[-73.94952174  40.70180944]\n",
      "[-73.93180216  40.76822715]\n",
      "[-73.93798819  40.81818756]\n",
      "[-73.98224263  40.67990081]\n",
      " \n",
      "Pickup clusters hour 18:\n",
      "[-73.9606486   40.66378861]\n",
      "[-73.86482021  40.73617802]\n",
      "[-73.97508422  40.69873064]\n",
      "[-73.90940721  40.84556954]\n",
      "[-73.94257552  40.79352616]\n",
      " \n",
      "Pickup clusters hour 19:\n",
      "[-73.91533092  40.75294368]\n",
      "[-73.84777921  40.73005864]\n",
      "[-73.97105339  40.68829989]\n",
      "[-73.94689478  40.807513  ]\n",
      "[-73.89278411  40.85304542]\n",
      " \n",
      "Pickup clusters hour 20:\n",
      "[-73.95030195  40.71010462]\n",
      "[-73.98137281  40.68031233]\n",
      "[-73.84834103  40.73146155]\n",
      "[-73.93970788  40.81394611]\n",
      "[-73.91043671  40.75508542]\n",
      " \n",
      "Pickup clusters hour 21:\n",
      "[-73.96840028  40.69139679]\n",
      "[-73.9473608   40.80609188]\n",
      "[-73.91356514  40.75333741]\n",
      "[-73.8467383   40.73234717]\n",
      "[-73.90989645  40.84437117]\n",
      " \n",
      "Pickup clusters hour 22:\n",
      "[-73.94701011  40.80636796]\n",
      "[-73.91077308  40.84382155]\n",
      "[-73.91231975  40.75362214]\n",
      "[-73.96654946  40.69353658]\n",
      "[-73.84326297  40.73327074]\n",
      " \n",
      "Pickup clusters hour 23:\n",
      "[-73.86224118  40.73856184]\n",
      "[-73.94814693  40.72631391]\n",
      "[-73.98465118  40.6840918 ]\n",
      "[-73.93507744  40.80943791]\n",
      "[-73.946358    40.67235776]\n",
      " \n"
     ]
    }
   ],
   "source": [
    "'''Create 5 pickup clusters for each hour'''\n",
    "from pyspark.mllib.clustering import KMeans, KMeansModel\n",
    "def pickupclusters(e):\n",
    "    timeStamp = e[1].split(' ')\n",
    "    hour = timeStamp[1].split(':')[0]\n",
    "    return [int(hour), float(e[5]), float(e[6])]\n",
    "\n",
    "pickuplocClusters = splitData.map(pickupclusters)\n",
    "\n",
    "\n",
    "def locOnly(e):\n",
    "    return e[1:]\n",
    "\n",
    "for i in range(24):\n",
    "    pickupbyHour = pickuplocClusters.filter(lambda l: l[0] == i and float(l[1]) != 0 and float(l[2]) != 0).map(locOnly)\n",
    "    clusters_pickup = KMeans.train(pickupbyHour, 5, maxIterations=10, initializationMode=\"random\")\n",
    "    print 'Pickup clusters hour ' + str(i) +':'\n",
    "    for i in clusters_pickup.centers:\n",
    "        print i \n",
    "    print ' '"
   ]
  },
  {
   "cell_type": "code",
   "execution_count": null,
   "metadata": {
    "collapsed": true
   },
   "outputs": [],
   "source": [
    "'''plug 10am clusters onto the map'''\n",
    "'''\n",
    "given Pickup clusters hour 10:\n",
    "[-73.92006552  40.75299758]\n",
    "[-73.84642313  40.73028197]\n",
    "[-73.90185753  40.85090884]\n",
    "[-73.97302741  40.68498621]\n",
    "[-73.94724079  40.80715293]\n",
    "'''\n",
    "cluster10 = [-73.92006552, 40.75299758\n",
    "            , -73.84642313, 40.73028197\n",
    "            , -73.90185753, 40.85090884\n",
    "            , -73.97302741, 40.68498621\n",
    "            , -73.94724079, 40.80715293]\n",
    "\n",
    "lat = []\n",
    "lon = []\n",
    "j = 0\n",
    "for j in range(10): \n",
    "    if j%2 != 0:\n",
    "        lat.append(cluster10[j])\n",
    "    else: \n",
    "        lon.append(cluster10[j])\n",
    "\n",
    "gmap = gmplot.GoogleMapPlotter(37.428, -122.145, 16)\n",
    "for i in range(5):\n",
    "    gmap.scatter(lat, lon, '#FA8072', size=1000, marker=False)\n",
    "\n",
    "gmap.draw(\"10amClusters.html\")\n"
   ]
  },
  {
   "cell_type": "code",
   "execution_count": 13,
   "metadata": {},
   "outputs": [
    {
     "name": "stdout",
     "output_type": "stream",
     "text": [
      "The loss cause by no charge trips in this month is 24491.32\n"
     ]
    }
   ],
   "source": [
    "'''loss from no charge trips'''\n",
    "noChargeData = splitData.filter(lambda l: int(l[19]) == 3)\n",
    "def add(a, b): \n",
    "    return a + b\n",
    "def getDistance (e):\n",
    "    return float(e[10])\n",
    "nochargeNum = noChargeData.map(getDistance).filter(lambda l: l != 0).count()\n",
    "nochagedis = noChargeData.map(getDistance).filter(lambda l: l != 0).reduce(add)\n",
    "#print nochagedis\n",
    "#NYC taxi rate in 2015: $2 initial + $0.30 per 1/5miles\n",
    "loss = 2 *nochargeNum +0.30*nochagedis*5\n",
    "print 'The loss cause by no charge trips in this month is', loss"
   ]
  },
  {
   "cell_type": "code",
   "execution_count": null,
   "metadata": {
    "collapsed": true
   },
   "outputs": [],
   "source": []
  },
  {
   "cell_type": "code",
   "execution_count": null,
   "metadata": {
    "collapsed": true
   },
   "outputs": [],
   "source": []
  },
  {
   "cell_type": "code",
   "execution_count": 64,
   "metadata": {
    "collapsed": true
   },
   "outputs": [],
   "source": [
    "sc.stop()"
   ]
  },
  {
   "cell_type": "code",
   "execution_count": null,
   "metadata": {
    "collapsed": true
   },
   "outputs": [],
   "source": []
  }
 ],
 "metadata": {
  "kernelspec": {
   "display_name": "Python 2",
   "language": "python",
   "name": "python2"
  },
  "language_info": {
   "codemirror_mode": {
    "name": "ipython",
    "version": 2
   },
   "file_extension": ".py",
   "mimetype": "text/x-python",
   "name": "python",
   "nbconvert_exporter": "python",
   "pygments_lexer": "ipython2",
   "version": "2.7.9"
  }
 },
 "nbformat": 4,
 "nbformat_minor": 2
}
